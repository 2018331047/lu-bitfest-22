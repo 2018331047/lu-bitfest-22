{
 "cells": [
  {
   "cell_type": "code",
   "execution_count": 1,
   "id": "c873ab9f",
   "metadata": {
    "_cell_guid": "b1076dfc-b9ad-4769-8c92-a6c4dae69d19",
    "_uuid": "8f2839f25d086af736a60e9eeb907d3b93b6e0e5",
    "execution": {
     "iopub.execute_input": "2022-12-10T15:11:06.371769Z",
     "iopub.status.busy": "2022-12-10T15:11:06.370784Z",
     "iopub.status.idle": "2022-12-10T15:11:06.390954Z",
     "shell.execute_reply": "2022-12-10T15:11:06.389763Z"
    },
    "papermill": {
     "duration": 0.032185,
     "end_time": "2022-12-10T15:11:06.394672",
     "exception": false,
     "start_time": "2022-12-10T15:11:06.362487",
     "status": "completed"
    },
    "tags": []
   },
   "outputs": [
    {
     "name": "stdout",
     "output_type": "stream",
     "text": [
      "/kaggle/input/income/income\n"
     ]
    }
   ],
   "source": [
    "# This Python 3 environment comes with many helpful analytics libraries installed\n",
    "# It is defined by the kaggle/python Docker image: https://github.com/kaggle/docker-python\n",
    "# For example, here's several helpful packages to load\n",
    "\n",
    "import numpy as np # linear algebra\n",
    "import pandas as pd # data processing, CSV file I/O (e.g. pd.read_csv)\n",
    "\n",
    "# Input data files are available in the read-only \"../input/\" directory\n",
    "# For example, running this (by clicking run or pressing Shift+Enter) will list all files under the input directory\n",
    "\n",
    "import os\n",
    "for dirname, _, filenames in os.walk('/kaggle/input'):\n",
    "    for filename in filenames:\n",
    "        print(os.path.join(dirname, filename))\n",
    "\n",
    "# You can write up to 20GB to the current directory (/kaggle/working/) that gets preserved as output when you create a version using \"Save & Run All\" \n",
    "# You can also write temporary files to /kaggle/temp/, but they won't be saved outside of the current session"
   ]
  },
  {
   "cell_type": "code",
   "execution_count": 2,
   "id": "ad45a023",
   "metadata": {
    "execution": {
     "iopub.execute_input": "2022-12-10T15:11:06.407428Z",
     "iopub.status.busy": "2022-12-10T15:11:06.406715Z",
     "iopub.status.idle": "2022-12-10T15:11:06.411755Z",
     "shell.execute_reply": "2022-12-10T15:11:06.410911Z"
    },
    "papermill": {
     "duration": 0.013586,
     "end_time": "2022-12-10T15:11:06.414036",
     "exception": false,
     "start_time": "2022-12-10T15:11:06.400450",
     "status": "completed"
    },
    "tags": []
   },
   "outputs": [],
   "source": [
    "import pandas as pd"
   ]
  },
  {
   "cell_type": "code",
   "execution_count": 3,
   "id": "8269c16a",
   "metadata": {
    "execution": {
     "iopub.execute_input": "2022-12-10T15:11:06.425812Z",
     "iopub.status.busy": "2022-12-10T15:11:06.425067Z",
     "iopub.status.idle": "2022-12-10T15:11:06.440991Z",
     "shell.execute_reply": "2022-12-10T15:11:06.440022Z"
    },
    "papermill": {
     "duration": 0.024675,
     "end_time": "2022-12-10T15:11:06.443552",
     "exception": false,
     "start_time": "2022-12-10T15:11:06.418877",
     "status": "completed"
    },
    "tags": []
   },
   "outputs": [],
   "source": [
    "df=pd.read_csv(\"/kaggle/input/income/income\")"
   ]
  },
  {
   "cell_type": "code",
   "execution_count": 4,
   "id": "b1f42d08",
   "metadata": {
    "execution": {
     "iopub.execute_input": "2022-12-10T15:11:06.455510Z",
     "iopub.status.busy": "2022-12-10T15:11:06.454753Z",
     "iopub.status.idle": "2022-12-10T15:11:06.481662Z",
     "shell.execute_reply": "2022-12-10T15:11:06.480463Z"
    },
    "papermill": {
     "duration": 0.036111,
     "end_time": "2022-12-10T15:11:06.484397",
     "exception": false,
     "start_time": "2022-12-10T15:11:06.448286",
     "status": "completed"
    },
    "tags": []
   },
   "outputs": [
    {
     "data": {
      "text/html": [
       "<div>\n",
       "<style scoped>\n",
       "    .dataframe tbody tr th:only-of-type {\n",
       "        vertical-align: middle;\n",
       "    }\n",
       "\n",
       "    .dataframe tbody tr th {\n",
       "        vertical-align: top;\n",
       "    }\n",
       "\n",
       "    .dataframe thead th {\n",
       "        text-align: right;\n",
       "    }\n",
       "</style>\n",
       "<table border=\"1\" class=\"dataframe\">\n",
       "  <thead>\n",
       "    <tr style=\"text-align: right;\">\n",
       "      <th></th>\n",
       "      <th>Name</th>\n",
       "      <th>Age</th>\n",
       "      <th>Income($)</th>\n",
       "    </tr>\n",
       "  </thead>\n",
       "  <tbody>\n",
       "    <tr>\n",
       "      <th>0</th>\n",
       "      <td>Rob</td>\n",
       "      <td>27</td>\n",
       "      <td>70000</td>\n",
       "    </tr>\n",
       "    <tr>\n",
       "      <th>1</th>\n",
       "      <td>Michael</td>\n",
       "      <td>29</td>\n",
       "      <td>90000</td>\n",
       "    </tr>\n",
       "    <tr>\n",
       "      <th>2</th>\n",
       "      <td>Mohan</td>\n",
       "      <td>29</td>\n",
       "      <td>61000</td>\n",
       "    </tr>\n",
       "    <tr>\n",
       "      <th>3</th>\n",
       "      <td>Ismail</td>\n",
       "      <td>28</td>\n",
       "      <td>60000</td>\n",
       "    </tr>\n",
       "    <tr>\n",
       "      <th>4</th>\n",
       "      <td>Kory</td>\n",
       "      <td>42</td>\n",
       "      <td>150000</td>\n",
       "    </tr>\n",
       "    <tr>\n",
       "      <th>5</th>\n",
       "      <td>Gautam</td>\n",
       "      <td>39</td>\n",
       "      <td>155000</td>\n",
       "    </tr>\n",
       "    <tr>\n",
       "      <th>6</th>\n",
       "      <td>David</td>\n",
       "      <td>41</td>\n",
       "      <td>160000</td>\n",
       "    </tr>\n",
       "    <tr>\n",
       "      <th>7</th>\n",
       "      <td>Andrea</td>\n",
       "      <td>38</td>\n",
       "      <td>162000</td>\n",
       "    </tr>\n",
       "    <tr>\n",
       "      <th>8</th>\n",
       "      <td>Brad</td>\n",
       "      <td>36</td>\n",
       "      <td>156000</td>\n",
       "    </tr>\n",
       "    <tr>\n",
       "      <th>9</th>\n",
       "      <td>Angelina</td>\n",
       "      <td>35</td>\n",
       "      <td>130000</td>\n",
       "    </tr>\n",
       "    <tr>\n",
       "      <th>10</th>\n",
       "      <td>Donald</td>\n",
       "      <td>37</td>\n",
       "      <td>137000</td>\n",
       "    </tr>\n",
       "    <tr>\n",
       "      <th>11</th>\n",
       "      <td>Tom</td>\n",
       "      <td>26</td>\n",
       "      <td>45000</td>\n",
       "    </tr>\n",
       "    <tr>\n",
       "      <th>12</th>\n",
       "      <td>Arnold</td>\n",
       "      <td>27</td>\n",
       "      <td>48000</td>\n",
       "    </tr>\n",
       "    <tr>\n",
       "      <th>13</th>\n",
       "      <td>Jared</td>\n",
       "      <td>28</td>\n",
       "      <td>51000</td>\n",
       "    </tr>\n",
       "    <tr>\n",
       "      <th>14</th>\n",
       "      <td>Stark</td>\n",
       "      <td>29</td>\n",
       "      <td>49500</td>\n",
       "    </tr>\n",
       "    <tr>\n",
       "      <th>15</th>\n",
       "      <td>Ranbir</td>\n",
       "      <td>32</td>\n",
       "      <td>53000</td>\n",
       "    </tr>\n",
       "    <tr>\n",
       "      <th>16</th>\n",
       "      <td>Dipika</td>\n",
       "      <td>40</td>\n",
       "      <td>65000</td>\n",
       "    </tr>\n",
       "    <tr>\n",
       "      <th>17</th>\n",
       "      <td>Priyanka</td>\n",
       "      <td>41</td>\n",
       "      <td>63000</td>\n",
       "    </tr>\n",
       "    <tr>\n",
       "      <th>18</th>\n",
       "      <td>Nick</td>\n",
       "      <td>43</td>\n",
       "      <td>64000</td>\n",
       "    </tr>\n",
       "    <tr>\n",
       "      <th>19</th>\n",
       "      <td>Alia</td>\n",
       "      <td>39</td>\n",
       "      <td>80000</td>\n",
       "    </tr>\n",
       "    <tr>\n",
       "      <th>20</th>\n",
       "      <td>Sid</td>\n",
       "      <td>41</td>\n",
       "      <td>82000</td>\n",
       "    </tr>\n",
       "    <tr>\n",
       "      <th>21</th>\n",
       "      <td>Abdul</td>\n",
       "      <td>39</td>\n",
       "      <td>58000</td>\n",
       "    </tr>\n",
       "  </tbody>\n",
       "</table>\n",
       "</div>"
      ],
      "text/plain": [
       "        Name  Age  Income($)\n",
       "0        Rob   27      70000\n",
       "1    Michael   29      90000\n",
       "2      Mohan   29      61000\n",
       "3     Ismail   28      60000\n",
       "4       Kory   42     150000\n",
       "5     Gautam   39     155000\n",
       "6      David   41     160000\n",
       "7     Andrea   38     162000\n",
       "8       Brad   36     156000\n",
       "9   Angelina   35     130000\n",
       "10    Donald   37     137000\n",
       "11       Tom   26      45000\n",
       "12    Arnold   27      48000\n",
       "13     Jared   28      51000\n",
       "14     Stark   29      49500\n",
       "15    Ranbir   32      53000\n",
       "16    Dipika   40      65000\n",
       "17  Priyanka   41      63000\n",
       "18      Nick   43      64000\n",
       "19      Alia   39      80000\n",
       "20       Sid   41      82000\n",
       "21     Abdul   39      58000"
      ]
     },
     "execution_count": 4,
     "metadata": {},
     "output_type": "execute_result"
    }
   ],
   "source": [
    "df"
   ]
  },
  {
   "cell_type": "code",
   "execution_count": 5,
   "id": "0497d008",
   "metadata": {
    "execution": {
     "iopub.execute_input": "2022-12-10T15:11:06.497019Z",
     "iopub.status.busy": "2022-12-10T15:11:06.496283Z",
     "iopub.status.idle": "2022-12-10T15:11:06.507315Z",
     "shell.execute_reply": "2022-12-10T15:11:06.506226Z"
    },
    "papermill": {
     "duration": 0.020405,
     "end_time": "2022-12-10T15:11:06.510056",
     "exception": false,
     "start_time": "2022-12-10T15:11:06.489651",
     "status": "completed"
    },
    "tags": []
   },
   "outputs": [],
   "source": [
    "df.drop(\"Name\",axis=1,inplace=True)"
   ]
  },
  {
   "cell_type": "code",
   "execution_count": 6,
   "id": "5166d86a",
   "metadata": {
    "execution": {
     "iopub.execute_input": "2022-12-10T15:11:06.522672Z",
     "iopub.status.busy": "2022-12-10T15:11:06.521891Z",
     "iopub.status.idle": "2022-12-10T15:11:06.532832Z",
     "shell.execute_reply": "2022-12-10T15:11:06.531710Z"
    },
    "papermill": {
     "duration": 0.01999,
     "end_time": "2022-12-10T15:11:06.535242",
     "exception": false,
     "start_time": "2022-12-10T15:11:06.515252",
     "status": "completed"
    },
    "tags": []
   },
   "outputs": [
    {
     "data": {
      "text/html": [
       "<div>\n",
       "<style scoped>\n",
       "    .dataframe tbody tr th:only-of-type {\n",
       "        vertical-align: middle;\n",
       "    }\n",
       "\n",
       "    .dataframe tbody tr th {\n",
       "        vertical-align: top;\n",
       "    }\n",
       "\n",
       "    .dataframe thead th {\n",
       "        text-align: right;\n",
       "    }\n",
       "</style>\n",
       "<table border=\"1\" class=\"dataframe\">\n",
       "  <thead>\n",
       "    <tr style=\"text-align: right;\">\n",
       "      <th></th>\n",
       "      <th>Age</th>\n",
       "      <th>Income($)</th>\n",
       "    </tr>\n",
       "  </thead>\n",
       "  <tbody>\n",
       "    <tr>\n",
       "      <th>0</th>\n",
       "      <td>27</td>\n",
       "      <td>70000</td>\n",
       "    </tr>\n",
       "    <tr>\n",
       "      <th>1</th>\n",
       "      <td>29</td>\n",
       "      <td>90000</td>\n",
       "    </tr>\n",
       "    <tr>\n",
       "      <th>2</th>\n",
       "      <td>29</td>\n",
       "      <td>61000</td>\n",
       "    </tr>\n",
       "    <tr>\n",
       "      <th>3</th>\n",
       "      <td>28</td>\n",
       "      <td>60000</td>\n",
       "    </tr>\n",
       "    <tr>\n",
       "      <th>4</th>\n",
       "      <td>42</td>\n",
       "      <td>150000</td>\n",
       "    </tr>\n",
       "    <tr>\n",
       "      <th>5</th>\n",
       "      <td>39</td>\n",
       "      <td>155000</td>\n",
       "    </tr>\n",
       "    <tr>\n",
       "      <th>6</th>\n",
       "      <td>41</td>\n",
       "      <td>160000</td>\n",
       "    </tr>\n",
       "    <tr>\n",
       "      <th>7</th>\n",
       "      <td>38</td>\n",
       "      <td>162000</td>\n",
       "    </tr>\n",
       "    <tr>\n",
       "      <th>8</th>\n",
       "      <td>36</td>\n",
       "      <td>156000</td>\n",
       "    </tr>\n",
       "    <tr>\n",
       "      <th>9</th>\n",
       "      <td>35</td>\n",
       "      <td>130000</td>\n",
       "    </tr>\n",
       "    <tr>\n",
       "      <th>10</th>\n",
       "      <td>37</td>\n",
       "      <td>137000</td>\n",
       "    </tr>\n",
       "    <tr>\n",
       "      <th>11</th>\n",
       "      <td>26</td>\n",
       "      <td>45000</td>\n",
       "    </tr>\n",
       "    <tr>\n",
       "      <th>12</th>\n",
       "      <td>27</td>\n",
       "      <td>48000</td>\n",
       "    </tr>\n",
       "    <tr>\n",
       "      <th>13</th>\n",
       "      <td>28</td>\n",
       "      <td>51000</td>\n",
       "    </tr>\n",
       "    <tr>\n",
       "      <th>14</th>\n",
       "      <td>29</td>\n",
       "      <td>49500</td>\n",
       "    </tr>\n",
       "    <tr>\n",
       "      <th>15</th>\n",
       "      <td>32</td>\n",
       "      <td>53000</td>\n",
       "    </tr>\n",
       "    <tr>\n",
       "      <th>16</th>\n",
       "      <td>40</td>\n",
       "      <td>65000</td>\n",
       "    </tr>\n",
       "    <tr>\n",
       "      <th>17</th>\n",
       "      <td>41</td>\n",
       "      <td>63000</td>\n",
       "    </tr>\n",
       "    <tr>\n",
       "      <th>18</th>\n",
       "      <td>43</td>\n",
       "      <td>64000</td>\n",
       "    </tr>\n",
       "    <tr>\n",
       "      <th>19</th>\n",
       "      <td>39</td>\n",
       "      <td>80000</td>\n",
       "    </tr>\n",
       "    <tr>\n",
       "      <th>20</th>\n",
       "      <td>41</td>\n",
       "      <td>82000</td>\n",
       "    </tr>\n",
       "    <tr>\n",
       "      <th>21</th>\n",
       "      <td>39</td>\n",
       "      <td>58000</td>\n",
       "    </tr>\n",
       "  </tbody>\n",
       "</table>\n",
       "</div>"
      ],
      "text/plain": [
       "    Age  Income($)\n",
       "0    27      70000\n",
       "1    29      90000\n",
       "2    29      61000\n",
       "3    28      60000\n",
       "4    42     150000\n",
       "5    39     155000\n",
       "6    41     160000\n",
       "7    38     162000\n",
       "8    36     156000\n",
       "9    35     130000\n",
       "10   37     137000\n",
       "11   26      45000\n",
       "12   27      48000\n",
       "13   28      51000\n",
       "14   29      49500\n",
       "15   32      53000\n",
       "16   40      65000\n",
       "17   41      63000\n",
       "18   43      64000\n",
       "19   39      80000\n",
       "20   41      82000\n",
       "21   39      58000"
      ]
     },
     "execution_count": 6,
     "metadata": {},
     "output_type": "execute_result"
    }
   ],
   "source": [
    "df"
   ]
  },
  {
   "cell_type": "code",
   "execution_count": 7,
   "id": "dbda7393",
   "metadata": {
    "execution": {
     "iopub.execute_input": "2022-12-10T15:11:06.547965Z",
     "iopub.status.busy": "2022-12-10T15:11:06.547530Z",
     "iopub.status.idle": "2022-12-10T15:11:07.465133Z",
     "shell.execute_reply": "2022-12-10T15:11:07.463746Z"
    },
    "papermill": {
     "duration": 0.927429,
     "end_time": "2022-12-10T15:11:07.468140",
     "exception": false,
     "start_time": "2022-12-10T15:11:06.540711",
     "status": "completed"
    },
    "tags": []
   },
   "outputs": [],
   "source": [
    "from sklearn.preprocessing import MinMaxScaler\n",
    "scaler=MinMaxScaler()"
   ]
  },
  {
   "cell_type": "code",
   "execution_count": 8,
   "id": "8cc5a8fe",
   "metadata": {
    "execution": {
     "iopub.execute_input": "2022-12-10T15:11:07.482676Z",
     "iopub.status.busy": "2022-12-10T15:11:07.481914Z",
     "iopub.status.idle": "2022-12-10T15:11:07.497320Z",
     "shell.execute_reply": "2022-12-10T15:11:07.496347Z"
    },
    "papermill": {
     "duration": 0.025344,
     "end_time": "2022-12-10T15:11:07.499959",
     "exception": false,
     "start_time": "2022-12-10T15:11:07.474615",
     "status": "completed"
    },
    "tags": []
   },
   "outputs": [],
   "source": [
    "df[\"Age\"]=scaler.fit_transform(df[[\"Age\"]])\n",
    "df[\"Income($)\"]=scaler.fit_transform(df[[\"Income($)\"]])"
   ]
  },
  {
   "cell_type": "code",
   "execution_count": 9,
   "id": "b7e433de",
   "metadata": {
    "execution": {
     "iopub.execute_input": "2022-12-10T15:11:07.512304Z",
     "iopub.status.busy": "2022-12-10T15:11:07.511877Z",
     "iopub.status.idle": "2022-12-10T15:11:07.523864Z",
     "shell.execute_reply": "2022-12-10T15:11:07.522759Z"
    },
    "papermill": {
     "duration": 0.021045,
     "end_time": "2022-12-10T15:11:07.526481",
     "exception": false,
     "start_time": "2022-12-10T15:11:07.505436",
     "status": "completed"
    },
    "tags": []
   },
   "outputs": [
    {
     "data": {
      "text/html": [
       "<div>\n",
       "<style scoped>\n",
       "    .dataframe tbody tr th:only-of-type {\n",
       "        vertical-align: middle;\n",
       "    }\n",
       "\n",
       "    .dataframe tbody tr th {\n",
       "        vertical-align: top;\n",
       "    }\n",
       "\n",
       "    .dataframe thead th {\n",
       "        text-align: right;\n",
       "    }\n",
       "</style>\n",
       "<table border=\"1\" class=\"dataframe\">\n",
       "  <thead>\n",
       "    <tr style=\"text-align: right;\">\n",
       "      <th></th>\n",
       "      <th>Age</th>\n",
       "      <th>Income($)</th>\n",
       "    </tr>\n",
       "  </thead>\n",
       "  <tbody>\n",
       "    <tr>\n",
       "      <th>0</th>\n",
       "      <td>0.058824</td>\n",
       "      <td>0.213675</td>\n",
       "    </tr>\n",
       "    <tr>\n",
       "      <th>1</th>\n",
       "      <td>0.176471</td>\n",
       "      <td>0.384615</td>\n",
       "    </tr>\n",
       "    <tr>\n",
       "      <th>2</th>\n",
       "      <td>0.176471</td>\n",
       "      <td>0.136752</td>\n",
       "    </tr>\n",
       "    <tr>\n",
       "      <th>3</th>\n",
       "      <td>0.117647</td>\n",
       "      <td>0.128205</td>\n",
       "    </tr>\n",
       "    <tr>\n",
       "      <th>4</th>\n",
       "      <td>0.941176</td>\n",
       "      <td>0.897436</td>\n",
       "    </tr>\n",
       "    <tr>\n",
       "      <th>5</th>\n",
       "      <td>0.764706</td>\n",
       "      <td>0.940171</td>\n",
       "    </tr>\n",
       "    <tr>\n",
       "      <th>6</th>\n",
       "      <td>0.882353</td>\n",
       "      <td>0.982906</td>\n",
       "    </tr>\n",
       "    <tr>\n",
       "      <th>7</th>\n",
       "      <td>0.705882</td>\n",
       "      <td>1.000000</td>\n",
       "    </tr>\n",
       "    <tr>\n",
       "      <th>8</th>\n",
       "      <td>0.588235</td>\n",
       "      <td>0.948718</td>\n",
       "    </tr>\n",
       "    <tr>\n",
       "      <th>9</th>\n",
       "      <td>0.529412</td>\n",
       "      <td>0.726496</td>\n",
       "    </tr>\n",
       "    <tr>\n",
       "      <th>10</th>\n",
       "      <td>0.647059</td>\n",
       "      <td>0.786325</td>\n",
       "    </tr>\n",
       "    <tr>\n",
       "      <th>11</th>\n",
       "      <td>0.000000</td>\n",
       "      <td>0.000000</td>\n",
       "    </tr>\n",
       "    <tr>\n",
       "      <th>12</th>\n",
       "      <td>0.058824</td>\n",
       "      <td>0.025641</td>\n",
       "    </tr>\n",
       "    <tr>\n",
       "      <th>13</th>\n",
       "      <td>0.117647</td>\n",
       "      <td>0.051282</td>\n",
       "    </tr>\n",
       "    <tr>\n",
       "      <th>14</th>\n",
       "      <td>0.176471</td>\n",
       "      <td>0.038462</td>\n",
       "    </tr>\n",
       "    <tr>\n",
       "      <th>15</th>\n",
       "      <td>0.352941</td>\n",
       "      <td>0.068376</td>\n",
       "    </tr>\n",
       "    <tr>\n",
       "      <th>16</th>\n",
       "      <td>0.823529</td>\n",
       "      <td>0.170940</td>\n",
       "    </tr>\n",
       "    <tr>\n",
       "      <th>17</th>\n",
       "      <td>0.882353</td>\n",
       "      <td>0.153846</td>\n",
       "    </tr>\n",
       "    <tr>\n",
       "      <th>18</th>\n",
       "      <td>1.000000</td>\n",
       "      <td>0.162393</td>\n",
       "    </tr>\n",
       "    <tr>\n",
       "      <th>19</th>\n",
       "      <td>0.764706</td>\n",
       "      <td>0.299145</td>\n",
       "    </tr>\n",
       "    <tr>\n",
       "      <th>20</th>\n",
       "      <td>0.882353</td>\n",
       "      <td>0.316239</td>\n",
       "    </tr>\n",
       "    <tr>\n",
       "      <th>21</th>\n",
       "      <td>0.764706</td>\n",
       "      <td>0.111111</td>\n",
       "    </tr>\n",
       "  </tbody>\n",
       "</table>\n",
       "</div>"
      ],
      "text/plain": [
       "         Age  Income($)\n",
       "0   0.058824   0.213675\n",
       "1   0.176471   0.384615\n",
       "2   0.176471   0.136752\n",
       "3   0.117647   0.128205\n",
       "4   0.941176   0.897436\n",
       "5   0.764706   0.940171\n",
       "6   0.882353   0.982906\n",
       "7   0.705882   1.000000\n",
       "8   0.588235   0.948718\n",
       "9   0.529412   0.726496\n",
       "10  0.647059   0.786325\n",
       "11  0.000000   0.000000\n",
       "12  0.058824   0.025641\n",
       "13  0.117647   0.051282\n",
       "14  0.176471   0.038462\n",
       "15  0.352941   0.068376\n",
       "16  0.823529   0.170940\n",
       "17  0.882353   0.153846\n",
       "18  1.000000   0.162393\n",
       "19  0.764706   0.299145\n",
       "20  0.882353   0.316239\n",
       "21  0.764706   0.111111"
      ]
     },
     "execution_count": 9,
     "metadata": {},
     "output_type": "execute_result"
    }
   ],
   "source": [
    "df"
   ]
  },
  {
   "cell_type": "code",
   "execution_count": 10,
   "id": "6373a056",
   "metadata": {
    "execution": {
     "iopub.execute_input": "2022-12-10T15:11:07.539484Z",
     "iopub.status.busy": "2022-12-10T15:11:07.538728Z",
     "iopub.status.idle": "2022-12-10T15:11:07.769524Z",
     "shell.execute_reply": "2022-12-10T15:11:07.768396Z"
    },
    "papermill": {
     "duration": 0.240974,
     "end_time": "2022-12-10T15:11:07.772888",
     "exception": false,
     "start_time": "2022-12-10T15:11:07.531914",
     "status": "completed"
    },
    "tags": []
   },
   "outputs": [],
   "source": [
    "from sklearn.cluster import KMeans"
   ]
  },
  {
   "cell_type": "code",
   "execution_count": 11,
   "id": "f8c3f2d5",
   "metadata": {
    "execution": {
     "iopub.execute_input": "2022-12-10T15:11:07.785642Z",
     "iopub.status.busy": "2022-12-10T15:11:07.785246Z",
     "iopub.status.idle": "2022-12-10T15:11:07.953411Z",
     "shell.execute_reply": "2022-12-10T15:11:07.952147Z"
    },
    "papermill": {
     "duration": 0.177737,
     "end_time": "2022-12-10T15:11:07.956164",
     "exception": false,
     "start_time": "2022-12-10T15:11:07.778427",
     "status": "completed"
    },
    "tags": []
   },
   "outputs": [],
   "source": [
    "import seaborn as sns"
   ]
  },
  {
   "cell_type": "code",
   "execution_count": 12,
   "id": "1de47b13",
   "metadata": {
    "execution": {
     "iopub.execute_input": "2022-12-10T15:11:07.969087Z",
     "iopub.status.busy": "2022-12-10T15:11:07.968645Z",
     "iopub.status.idle": "2022-12-10T15:11:08.223986Z",
     "shell.execute_reply": "2022-12-10T15:11:08.222759Z"
    },
    "papermill": {
     "duration": 0.264442,
     "end_time": "2022-12-10T15:11:08.226329",
     "exception": false,
     "start_time": "2022-12-10T15:11:07.961887",
     "status": "completed"
    },
    "tags": []
   },
   "outputs": [
    {
     "data": {
      "text/plain": [
       "<AxesSubplot:xlabel='Age', ylabel='Income($)'>"
      ]
     },
     "execution_count": 12,
     "metadata": {},
     "output_type": "execute_result"
    },
    {
     "data": {
      "image/png": "[encoded data removed]",
      "text/plain": [
       "<Figure size 432x288 with 1 Axes>"
      ]
     },
     "metadata": {
      "needs_background": "light"
     },
     "output_type": "display_data"
    }
   ],
   "source": [
    "sns.scatterplot(x=df[\"Age\"],y=df[\"Income($)\"])"
   ]
  },
  {
   "cell_type": "code",
   "execution_count": 13,
   "id": "63d7dd42",
   "metadata": {
    "execution": {
     "iopub.execute_input": "2022-12-10T15:11:08.239836Z",
     "iopub.status.busy": "2022-12-10T15:11:08.238993Z",
     "iopub.status.idle": "2022-12-10T15:11:08.580740Z",
     "shell.execute_reply": "2022-12-10T15:11:08.579429Z"
    },
    "papermill": {
     "duration": 0.351646,
     "end_time": "2022-12-10T15:11:08.583734",
     "exception": false,
     "start_time": "2022-12-10T15:11:08.232088",
     "status": "completed"
    },
    "tags": []
   },
   "outputs": [],
   "source": [
    "distortions=[]\n",
    "rng=range(1,10)\n",
    "for i in rng:\n",
    "    km=KMeans(n_clusters=i)\n",
    "    km.fit(df)\n",
    "    distortions.append(km.inertia_)"
   ]
  },
  {
   "cell_type": "code",
   "execution_count": 14,
   "id": "2df85143",
   "metadata": {
    "execution": {
     "iopub.execute_input": "2022-12-10T15:11:08.598942Z",
     "iopub.status.busy": "2022-12-10T15:11:08.598531Z",
     "iopub.status.idle": "2022-12-10T15:11:08.851696Z",
     "shell.execute_reply": "2022-12-10T15:11:08.850437Z"
    },
    "papermill": {
     "duration": 0.264148,
     "end_time": "2022-12-10T15:11:08.854888",
     "exception": false,
     "start_time": "2022-12-10T15:11:08.590740",
     "status": "completed"
    },
    "tags": []
   },
   "outputs": [
    {
     "data": {
      "text/plain": [
       "<AxesSubplot:>"
      ]
     },
     "execution_count": 14,
     "metadata": {},
     "output_type": "execute_result"
    },
    {
     "data": {
      "image/png": "[encoded data removed]",
      "text/plain": [
       "<Figure size 432x288 with 1 Axes>"
      ]
     },
     "metadata": {
      "needs_background": "light"
     },
     "output_type": "display_data"
    }
   ],
   "source": [
    "sns.lineplot(x=rng,y=distortions)"
   ]
  },
  {
   "cell_type": "code",
   "execution_count": 15,
   "id": "2d0b23e8",
   "metadata": {
    "execution": {
     "iopub.execute_input": "2022-12-10T15:11:08.874208Z",
     "iopub.status.busy": "2022-12-10T15:11:08.873780Z",
     "iopub.status.idle": "2022-12-10T15:11:08.923606Z",
     "shell.execute_reply": "2022-12-10T15:11:08.922742Z"
    },
    "papermill": {
     "duration": 0.06196,
     "end_time": "2022-12-10T15:11:08.925930",
     "exception": false,
     "start_time": "2022-12-10T15:11:08.863970",
     "status": "completed"
    },
    "tags": []
   },
   "outputs": [
    {
     "data": {
      "text/html": [
       "<div>\n",
       "<style scoped>\n",
       "    .dataframe tbody tr th:only-of-type {\n",
       "        vertical-align: middle;\n",
       "    }\n",
       "\n",
       "    .dataframe tbody tr th {\n",
       "        vertical-align: top;\n",
       "    }\n",
       "\n",
       "    .dataframe thead th {\n",
       "        text-align: right;\n",
       "    }\n",
       "</style>\n",
       "<table border=\"1\" class=\"dataframe\">\n",
       "  <thead>\n",
       "    <tr style=\"text-align: right;\">\n",
       "      <th></th>\n",
       "      <th>Age</th>\n",
       "      <th>Income($)</th>\n",
       "      <th>cluster</th>\n",
       "    </tr>\n",
       "  </thead>\n",
       "  <tbody>\n",
       "    <tr>\n",
       "      <th>0</th>\n",
       "      <td>0.058824</td>\n",
       "      <td>0.213675</td>\n",
       "      <td>1</td>\n",
       "    </tr>\n",
       "    <tr>\n",
       "      <th>1</th>\n",
       "      <td>0.176471</td>\n",
       "      <td>0.384615</td>\n",
       "      <td>1</td>\n",
       "    </tr>\n",
       "    <tr>\n",
       "      <th>2</th>\n",
       "      <td>0.176471</td>\n",
       "      <td>0.136752</td>\n",
       "      <td>1</td>\n",
       "    </tr>\n",
       "    <tr>\n",
       "      <th>3</th>\n",
       "      <td>0.117647</td>\n",
       "      <td>0.128205</td>\n",
       "      <td>1</td>\n",
       "    </tr>\n",
       "    <tr>\n",
       "      <th>4</th>\n",
       "      <td>0.941176</td>\n",
       "      <td>0.897436</td>\n",
       "      <td>0</td>\n",
       "    </tr>\n",
       "    <tr>\n",
       "      <th>5</th>\n",
       "      <td>0.764706</td>\n",
       "      <td>0.940171</td>\n",
       "      <td>0</td>\n",
       "    </tr>\n",
       "    <tr>\n",
       "      <th>6</th>\n",
       "      <td>0.882353</td>\n",
       "      <td>0.982906</td>\n",
       "      <td>0</td>\n",
       "    </tr>\n",
       "    <tr>\n",
       "      <th>7</th>\n",
       "      <td>0.705882</td>\n",
       "      <td>1.000000</td>\n",
       "      <td>0</td>\n",
       "    </tr>\n",
       "    <tr>\n",
       "      <th>8</th>\n",
       "      <td>0.588235</td>\n",
       "      <td>0.948718</td>\n",
       "      <td>0</td>\n",
       "    </tr>\n",
       "    <tr>\n",
       "      <th>9</th>\n",
       "      <td>0.529412</td>\n",
       "      <td>0.726496</td>\n",
       "      <td>0</td>\n",
       "    </tr>\n",
       "    <tr>\n",
       "      <th>10</th>\n",
       "      <td>0.647059</td>\n",
       "      <td>0.786325</td>\n",
       "      <td>0</td>\n",
       "    </tr>\n",
       "    <tr>\n",
       "      <th>11</th>\n",
       "      <td>0.000000</td>\n",
       "      <td>0.000000</td>\n",
       "      <td>1</td>\n",
       "    </tr>\n",
       "    <tr>\n",
       "      <th>12</th>\n",
       "      <td>0.058824</td>\n",
       "      <td>0.025641</td>\n",
       "      <td>1</td>\n",
       "    </tr>\n",
       "    <tr>\n",
       "      <th>13</th>\n",
       "      <td>0.117647</td>\n",
       "      <td>0.051282</td>\n",
       "      <td>1</td>\n",
       "    </tr>\n",
       "    <tr>\n",
       "      <th>14</th>\n",
       "      <td>0.176471</td>\n",
       "      <td>0.038462</td>\n",
       "      <td>1</td>\n",
       "    </tr>\n",
       "    <tr>\n",
       "      <th>15</th>\n",
       "      <td>0.352941</td>\n",
       "      <td>0.068376</td>\n",
       "      <td>1</td>\n",
       "    </tr>\n",
       "    <tr>\n",
       "      <th>16</th>\n",
       "      <td>0.823529</td>\n",
       "      <td>0.170940</td>\n",
       "      <td>2</td>\n",
       "    </tr>\n",
       "    <tr>\n",
       "      <th>17</th>\n",
       "      <td>0.882353</td>\n",
       "      <td>0.153846</td>\n",
       "      <td>2</td>\n",
       "    </tr>\n",
       "    <tr>\n",
       "      <th>18</th>\n",
       "      <td>1.000000</td>\n",
       "      <td>0.162393</td>\n",
       "      <td>2</td>\n",
       "    </tr>\n",
       "    <tr>\n",
       "      <th>19</th>\n",
       "      <td>0.764706</td>\n",
       "      <td>0.299145</td>\n",
       "      <td>2</td>\n",
       "    </tr>\n",
       "    <tr>\n",
       "      <th>20</th>\n",
       "      <td>0.882353</td>\n",
       "      <td>0.316239</td>\n",
       "      <td>2</td>\n",
       "    </tr>\n",
       "    <tr>\n",
       "      <th>21</th>\n",
       "      <td>0.764706</td>\n",
       "      <td>0.111111</td>\n",
       "      <td>2</td>\n",
       "    </tr>\n",
       "  </tbody>\n",
       "</table>\n",
       "</div>"
      ],
      "text/plain": [
       "         Age  Income($)  cluster\n",
       "0   0.058824   0.213675        1\n",
       "1   0.176471   0.384615        1\n",
       "2   0.176471   0.136752        1\n",
       "3   0.117647   0.128205        1\n",
       "4   0.941176   0.897436        0\n",
       "5   0.764706   0.940171        0\n",
       "6   0.882353   0.982906        0\n",
       "7   0.705882   1.000000        0\n",
       "8   0.588235   0.948718        0\n",
       "9   0.529412   0.726496        0\n",
       "10  0.647059   0.786325        0\n",
       "11  0.000000   0.000000        1\n",
       "12  0.058824   0.025641        1\n",
       "13  0.117647   0.051282        1\n",
       "14  0.176471   0.038462        1\n",
       "15  0.352941   0.068376        1\n",
       "16  0.823529   0.170940        2\n",
       "17  0.882353   0.153846        2\n",
       "18  1.000000   0.162393        2\n",
       "19  0.764706   0.299145        2\n",
       "20  0.882353   0.316239        2\n",
       "21  0.764706   0.111111        2"
      ]
     },
     "execution_count": 15,
     "metadata": {},
     "output_type": "execute_result"
    }
   ],
   "source": [
    "km=KMeans(n_clusters=3)\n",
    "df[\"cluster\"]=km.fit_predict(df)\n",
    "df"
   ]
  },
  {
   "cell_type": "code",
   "execution_count": 16,
   "id": "b598b01e",
   "metadata": {
    "execution": {
     "iopub.execute_input": "2022-12-10T15:11:08.943879Z",
     "iopub.status.busy": "2022-12-10T15:11:08.942982Z",
     "iopub.status.idle": "2022-12-10T15:11:09.320370Z",
     "shell.execute_reply": "2022-12-10T15:11:09.319574Z"
    },
    "papermill": {
     "duration": 0.388733,
     "end_time": "2022-12-10T15:11:09.323392",
     "exception": false,
     "start_time": "2022-12-10T15:11:08.934659",
     "status": "completed"
    },
    "tags": []
   },
   "outputs": [
    {
     "data": {
      "text/plain": [
       "<AxesSubplot:xlabel='Age', ylabel='Income($)'>"
      ]
     },
     "execution_count": 16,
     "metadata": {},
     "output_type": "execute_result"
    },
    {
     "data": {
      "image/png": "[encoded data removed]",
      "text/plain": [
       "<Figure size 1152x432 with 1 Axes>"
      ]
     },
     "metadata": {
      "needs_background": "light"
     },
     "output_type": "display_data"
    }
   ],
   "source": [
    "import matplotlib.pyplot as plt\n",
    "plt.figure(figsize=(16,6))\n",
    "sns.scatterplot(x=df[\"Age\"],y=df[\"Income($)\"],hue=df[\"cluster\"])\n",
    "sns.scatterplot(x=km.cluster_centers_[:,0],y=km.cluster_centers_[:,1],label=\"centroid\",color=\"red\",marker=\"*\")"
   ]
  },
  {
   "cell_type": "code",
   "execution_count": null,
   "id": "1600183a",
   "metadata": {
    "papermill": {
     "duration": 0.007105,
     "end_time": "2022-12-10T15:11:09.339821",
     "exception": false,
     "start_time": "2022-12-10T15:11:09.332716",
     "status": "completed"
    },
    "tags": []
   },
   "outputs": [],
   "source": []
  }
 ],
 "metadata": {
  "kernelspec": {
   "display_name": "Python 3",
   "language": "python",
   "name": "python3"
  },
  "language_info": {
   "codemirror_mode": {
    "name": "ipython",
    "version": 3
   },
   "file_extension": ".py",
   "mimetype": "text/x-python",
   "name": "python",
   "nbconvert_exporter": "python",
   "pygments_lexer": "ipython3",
   "version": "3.7.12"
  },
  "papermill": {
   "default_parameters": {},
   "duration": 12.147849,
   "end_time": "2022-12-10T15:11:10.170317",
   "environment_variables": {},
   "exception": null,
   "input_path": "__notebook__.ipynb",
   "output_path": "__notebook__.ipynb",
   "parameters": {},
   "start_time": "2022-12-10T15:10:58.022468",
   "version": "2.3.4"
  }
 },
 "nbformat": 4,
 "nbformat_minor": 5
}
